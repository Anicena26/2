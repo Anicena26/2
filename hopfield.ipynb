{
 "cells": [
  {
   "cell_type": "code",
   "execution_count": 1,
   "id": "670807d7-d2e4-45f3-b711-85b8d6264fae",
   "metadata": {},
   "outputs": [],
   "source": [
    "import numpy as np"
   ]
  },
  {
   "cell_type": "code",
   "execution_count": 2,
   "id": "f27728e4-c1e2-41c9-a2b1-5100018f2319",
   "metadata": {},
   "outputs": [],
   "source": [
    "vectors = np.array([[1, 1, -1, -1],\n",
    "                    [-1, -1, 1, 1],\n",
    "                    [1, -1, 1, -1],\n",
    "                    [-1, 1, -1, 1]])"
   ]
  },
  {
   "cell_type": "code",
   "execution_count": 3,
   "id": "c1ed01db-e230-4fb1-ac75-0bf59075cf31",
   "metadata": {},
   "outputs": [],
   "source": [
    "weights = np.zeros((4, 4))\n",
    "for i in range(4):\n",
    "    for j in range(4):\n",
    "        if i == j:\n",
    "            weights[i, j] = 0\n",
    "        else:\n",
    "            weights[i, j] = np.sum(vectors[i] * vectors[j])\n"
   ]
  },
  {
   "cell_type": "code",
   "execution_count": 4,
   "id": "f09afc8f-075f-4bf0-8147-42857a70107b",
   "metadata": {},
   "outputs": [],
   "source": [
    "def activation(x):\n",
    "    return np.where(x >= 0, 1, -1)"
   ]
  },
  {
   "cell_type": "code",
   "execution_count": 5,
   "id": "81b193a9-482e-4ba3-a372-2650da95daaa",
   "metadata": {},
   "outputs": [],
   "source": [
    "def hopfield(input_vector, weights):\n",
    "    output_vector = activation(np.dot(weights, input_vector))\n",
    "    return output_vector"
   ]
  },
  {
   "cell_type": "code",
   "execution_count": 6,
   "id": "d97e5397-217e-4bc6-aa2d-81e425ef94c0",
   "metadata": {},
   "outputs": [
    {
     "name": "stdout",
     "output_type": "stream",
     "text": [
      "Input vector:\n",
      "[ 1  1 -1 -1]\n",
      "Output vector:\n",
      "[-1 -1  1  1]\n"
     ]
    }
   ],
   "source": [
    "input_vector = vectors[0]\n",
    "output_vector = hopfield(input_vector, weights)\n",
    "print(\"Input vector:\")\n",
    "print(input_vector)\n",
    "print(\"Output vector:\")\n",
    "print(output_vector)"
   ]
  }
 ],
 "metadata": {
  "kernelspec": {
   "display_name": "Python 3 (ipykernel)",
   "language": "python",
   "name": "python3"
  },
  "language_info": {
   "codemirror_mode": {
    "name": "ipython",
    "version": 3
   },
   "file_extension": ".py",
   "mimetype": "text/x-python",
   "name": "python",
   "nbconvert_exporter": "python",
   "pygments_lexer": "ipython3",
   "version": "3.9.18"
  }
 },
 "nbformat": 4,
 "nbformat_minor": 5
}
