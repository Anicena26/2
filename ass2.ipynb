{
 "cells": [
  {
   "cell_type": "code",
   "execution_count": 1,
   "id": "bf751627-76dd-4738-9bf4-31941d4749e3",
   "metadata": {},
   "outputs": [
    {
     "name": "stdout",
     "output_type": "stream",
     "text": [
      "0\n",
      "1\n",
      "0\n",
      "0\n"
     ]
    }
   ],
   "source": [
    "import numpy as np\n",
    "def mp_neuron(inputs, weights, threshold):\n",
    "    weighted_sum = np.dot(inputs, weights)\n",
    "    output = 1 if weighted_sum >= threshold else 0\n",
    "    return output\n",
    "def and_not(x1, x2):\n",
    "    weights = [1, -1] \n",
    "    threshold = 1   \n",
    "    inputs = np.array([x1, x2])\n",
    "    output = mp_neuron(inputs, weights, threshold)\n",
    "    return output\n",
    "print(and_not(0, 0)) \n",
    "print(and_not(1, 0))  \n",
    "print(and_not(0, 1))  \n",
    "print(and_not(1, 1))  "
   ]
  },
  {
   "cell_type": "code",
   "execution_count": null,
   "id": "da23c621-966c-4fc2-b68d-c04b51f4bf12",
   "metadata": {},
   "outputs": [],
   "source": [
    "import numpy as np"
   ]
  },
  {
   "cell_type": "code",
   "execution_count": 3,
   "id": "47fb6bc2-a8b9-4888-b50b-3e645eee01a4",
   "metadata": {},
   "outputs": [],
   "source": [
    "def mp_neuron(input,weight,threshold):\n",
    "    weighted_sum=np.dot(input,weight)\n",
    "    output=1 if weighted_sum>=threshold else 0\n",
    "    return output"
   ]
  },
  {
   "cell_type": "code",
   "execution_count": 6,
   "id": "aea8220b-08e0-43eb-b6e6-309c9e50cd3c",
   "metadata": {},
   "outputs": [],
   "source": [
    "def and_not(x1,x2):\n",
    "    weights=[1,-1]\n",
    "    input=np.array([x1,x2])\n",
    "    threshold=1\n",
    "    output= mp_neuron(input,weights,threshold)\n",
    "    return output"
   ]
  },
  {
   "cell_type": "code",
   "execution_count": 9,
   "id": "e204c33b-944c-4105-a21f-0f6b6855df10",
   "metadata": {},
   "outputs": [
    {
     "name": "stdout",
     "output_type": "stream",
     "text": [
      "0\n"
     ]
    }
   ],
   "source": [
    "print(and_not(2,2))"
   ]
  }
 ],
 "metadata": {
  "kernelspec": {
   "display_name": "Python 3 (ipykernel)",
   "language": "python",
   "name": "python3"
  },
  "language_info": {
   "codemirror_mode": {
    "name": "ipython",
    "version": 3
   },
   "file_extension": ".py",
   "mimetype": "text/x-python",
   "name": "python",
   "nbconvert_exporter": "python",
   "pygments_lexer": "ipython3",
   "version": "3.9.18"
  }
 },
 "nbformat": 4,
 "nbformat_minor": 5
}
